{
  "cells": [
    {
      "cell_type": "code",
      "execution_count": null,
      "metadata": {
        "id": "Xf0aadnHxWV1",
        "outputId": "7d4e3aaa-3a8a-4197-b97c-9fe167313732"
      },
      "outputs": [
        {
          "name": "stderr",
          "output_type": "stream",
          "text": [
            "[nltk_data] Downloading package punkt to\n",
            "[nltk_data]     C:\\Users\\222690\\AppData\\Roaming\\nltk_data...\n",
            "[nltk_data]   Package punkt is already up-to-date!\n",
            "[nltk_data] Downloading package averaged_perceptron_tagger to\n",
            "[nltk_data]     C:\\Users\\222690\\AppData\\Roaming\\nltk_data...\n",
            "[nltk_data]   Unzipping taggers\\averaged_perceptron_tagger.zip.\n"
          ]
        },
        {
          "data": {
            "text/plain": [
              "True"
            ]
          },
          "execution_count": 23,
          "metadata": {},
          "output_type": "execute_result"
        }
      ],
      "source": [
        "from bs4 import BeautifulSoup\n",
        "import pandas as pd\n",
        "import re\n",
        "import numpy as np\n",
        "import nltk\n",
        "nltk.download('punkt')\n",
        "nltk.download('averaged_perceptron_tagger')"
      ]
    },
    {
      "cell_type": "markdown",
      "metadata": {
        "id": "Klo_Dh5VxWV4"
      },
      "source": [
        "## Лабораторная работа 6"
      ]
    },
    {
      "cell_type": "markdown",
      "metadata": {
        "id": "JtKjJtSaxWV4"
      },
      "source": [
        "### Форматирование строк"
      ]
    },
    {
      "cell_type": "markdown",
      "metadata": {
        "id": "249D6tgRxWV5"
      },
      "source": [
        "1\\. Загрузите данные из файла `recipes_sample.csv` (__ЛР2__) в виде `pd.DataFrame` `recipes` При помощи форматирования строк выведите информацию об id рецепта и времени выполнения 5 случайных рецептов в виде таблицы следующего вида:\n",
        "\n",
        "    \n",
        "    |      id      |  minutes  |\n",
        "    |--------------------------|\n",
        "    |    61178     |    65     |\n",
        "    |    202352    |    80     |\n",
        "    |    364322    |    150    |\n",
        "    |    26177     |    20     |\n",
        "    |    224785    |    35     |\n",
        "    \n",
        "Обратите внимание, что ширина столбцов заранее неизвестна и должна рассчитываться динамически, в зависимости от тех данных, которые были выбраны."
      ]
    },
    {
      "cell_type": "code",
      "execution_count": null,
      "metadata": {
        "id": "xMvf3OucxWV5",
        "outputId": "8b0300dd-d560-4eab-d1df-900c0d1ff38c"
      },
      "outputs": [
        {
          "name": "stdout",
          "output_type": "stream",
          "text": [
            "|      id      |  minutes  |\n",
            "|--------------------------|\n",
            "|    239961    |    35     |\n",
            "|    146271    |    75     |\n",
            "|    200484    |    30     |\n",
            "|    154823    |    20     |\n",
            "|    338200    |    60     |\n"
          ]
        }
      ],
      "source": [
        "df = pd.read_csv(\"./data/recipes_sample.csv\")\n",
        "five_values = df.sample(n = 5)[['id','minutes']]\n",
        "five_values.reset_index(inplace=True)\n",
        "max_id = len(str(max(df['id']))) + 8\n",
        "max_min = max(len(str(max(df['minutes']))), len('minutes')) + 4\n",
        "print(f\"|{'id':^{max_id}}|{'minutes':^{max_min}}|\")\n",
        "print('|'+'-'*(max_id+max_min+1)+'|')\n",
        "for i in range(5):\n",
        "    print(f'|{five_values[\"id\"][i]:^{max_id}}|{five_values[\"minutes\"][i]:^{max_min}}|')"
      ]
    },
    {
      "cell_type": "markdown",
      "metadata": {
        "id": "3gf9CN8exWV5"
      },
      "source": [
        "2\\. Напишите функцию `show_info`, которая по данным о рецепте создает строку (в смысле объекта python) с описанием следующего вида:\n",
        "\n",
        "```\n",
        "\"Название Из Нескольких Слов\"\n",
        "\n",
        "1. Шаг 1\n",
        "2. Шаг 2\n",
        "----------\n",
        "Автор: contributor_id\n",
        "Среднее время приготовления: minutes минут\n",
        "```\n",
        "\n",
        "    \n",
        "Данные для создания строки получите из файлов `recipes_sample.csv` (__ЛР2__) и `steps_sample.xml` (__ЛР3__).\n",
        "Вызовите данную функцию для рецепта с id `170895` и выведите (через `print`) полученную строку на экран."
      ]
    },
    {
      "cell_type": "code",
      "execution_count": null,
      "metadata": {
        "id": "9_ietei8xWV5",
        "outputId": "076fcdb5-b2bf-486b-f4c5-7f932cb703bf"
      },
      "outputs": [
        {
          "name": "stdout",
          "output_type": "stream",
          "text": [
            "                                       name     id  minutes  contributor_id  \\\n",
            "0     george s at the cove  black bean soup  44123       90           35193   \n",
            "1        healthy for them  yogurt popsicles  67664       10           91970   \n",
            "2              i can t believe it s spinach  38798       30            1533   \n",
            "3                      italian  gut busters  35173       45           22724   \n",
            "4  love is in the air  beef fondue   sauces  84797       25            4470   \n",
            "\n",
            "    submitted  n_steps                                        description  \\\n",
            "0  2002-10-25      NaN  an original recipe created by chef scott meska...   \n",
            "1  2003-07-26      NaN  my children and their friends ask for my homem...   \n",
            "2  2002-08-29      NaN            these were so go, it surprised even me.   \n",
            "3  2002-07-27      NaN  my sister-in-law made these for us at a family...   \n",
            "4  2004-02-23      4.0  i think a fondue is a very romantic casual din...   \n",
            "\n",
            "   n_ingredients  \n",
            "0           18.0  \n",
            "1            NaN  \n",
            "2            8.0  \n",
            "3            NaN  \n",
            "4            NaN  \n",
            "------------------------------------------------------------------------------------------------------------------------------------------------------\n",
            "                                         name      id  minutes  \\\n",
            "15754  leeks and parsnips  sauteed or creamed  170895       27   \n",
            "\n",
            "       contributor_id   submitted  n_steps  \\\n",
            "15754            8377  2006-05-31     21.0   \n",
            "\n",
            "                                             description  n_ingredients  \n",
            "15754  this is good sauteed only or creamed. very eas...            9.0  \n",
            "\"Leeks And Parsnips  Sauteed Or Creamed\"\n",
            "\n",
            "1. Clean the leeks and discard the dark green portions\n",
            "2. Cut the leeks lengthwise then into one-inch pieces\n",
            "3. Melt the butter in a medium skillet , med\n",
            "4. Heat\n",
            "5. Add the garlic and fry 'til fragrant\n",
            "6. Add leeks and fry until the leeks are tender , about 6-minutes\n",
            "7. Meanwhile , peel and chunk the parsnips into one-inch pieces\n",
            "8. Place in a steaming basket and steam 'til they are as tender as you prefer\n",
            "9. I like them fork-tender\n",
            "10. Drain parsnips and add to the skillet with the leeks\n",
            "11. Add salt and pepper\n",
            "12. Gently sautee together for 5-minutes\n",
            "13. At this point you can serve it , or continue on and cream it:\n",
            "14. In a jar with a screw top , add the half-n-half and arrowroot\n",
            "15. Shake 'til blended\n",
            "16. Turn heat to low under the leeks and parsnips\n",
            "17. Pour in the arrowroot mixture , stirring gently as you pour\n",
            "18. If too thick , gradually add the water\n",
            "19. Let simmer for a couple of minutes\n",
            "20. Taste to adjust seasoning , probably an additional 1 / 2 teaspoon salt\n",
            "21. Serve warm\n",
            "----------\n",
            "Автор: 8377\n",
            "Среднее время приготовления: 27 минут\n",
            "\n"
          ]
        }
      ],
      "source": [
        "with open('./data/steps_sample.xml', 'r') as file:\n",
        "    recipes = BeautifulSoup(file.read(), 'xml')\n",
        "recipe_text = recipes.find('id', string='170895').next_sibling.next_sibling.text.strip().split('\\n')\n",
        "\n",
        "r_pd = pd.read_csv('./data/recipes_sample.csv')\n",
        "print(r_pd.head())\n",
        "looked_data = r_pd[r_pd['id'] == 170895]\n",
        "print('-'*150)\n",
        "print(looked_data.head())\n",
        "name_recipe, minutes, author_id = looked_data['name'].values[0], looked_data['minutes'].values[0], looked_data['contributor_id'].values[0]\n",
        "\n",
        "\n",
        "def show_info(name:str,\n",
        "              steps: list[str],\n",
        "              minutes:int,\n",
        "              author_id:int) -> str:\n",
        "    res_str = f'\"{name.title()}\"\\n\\n'\n",
        "    res_str += \"\\n\".join([f\"{i+1}. {v.capitalize()}\" for i, v in enumerate(steps)])\n",
        "    res_str += \"\\n\"+\"-\"*10+\"\\n\"\n",
        "    res_str += f\"Автор: {author_id}\\n\"\n",
        "    res_str += f\"Среднее время приготовления: {minutes} минут\\n\"\n",
        "    return res_str\n",
        "\n",
        "print(show_info(name_recipe, recipe_text, minutes, author_id))"
      ]
    },
    {
      "cell_type": "markdown",
      "metadata": {
        "id": "Wbclw4AIxWV6"
      },
      "source": [
        "## Работа с регулярными выражениями"
      ]
    },
    {
      "cell_type": "markdown",
      "metadata": {
        "id": "mtgo7PcbxWV6"
      },
      "source": [
        "3\\. Напишите регулярное выражение, которое ищет следующий паттерн в строке: число (1 цифра или более), затем пробел, затем слова: hour или hours или minute или minutes. Произведите поиск по данному регулярному выражению в каждом шаге рецепта с id 25082. Выведите на экран все непустые результаты, найденные по данному шаблону."
      ]
    },
    {
      "cell_type": "code",
      "execution_count": null,
      "metadata": {
        "id": "XVBA4jl4xWV6",
        "outputId": "b043d06d-8e2c-470e-b081-0619f7695806"
      },
      "outputs": [
        {
          "name": "stdout",
          "output_type": "stream",
          "text": [
            "20 minutes\n",
            "10 minutes\n",
            "2 hours\n",
            "10 minutes\n",
            "20 minutes\n",
            "30 minutes\n"
          ]
        }
      ],
      "source": [
        "pattern = r\"(\\d+\\s(hour[s]*|minute[s]*))\"\n",
        "data_recipes = recipes.find('id', string='25082').next_sibling.next_sibling.text.strip().split('\\n')\n",
        "res = re.findall(pattern, '\\n'.join(data_recipes))\n",
        "for s in res:\n",
        "    print(s[0])"
      ]
    },
    {
      "cell_type": "markdown",
      "metadata": {
        "id": "PAYqpwvPxWV6"
      },
      "source": [
        "4\\. Напишите регулярное выражение, которое ищет шаблон вида \"this..., but\" _в начале строки_ . Между словом \"this\" и частью \", but\" может находиться произвольное число букв, цифр, знаков подчеркивания и пробелов. Никаких других символов вместо многоточия быть не может. Пробел между запятой и словом \"but\" может присутствовать или отсутствовать.\n",
        "\n",
        "Используя строковые методы `pd.Series`, выясните, для каких рецептов данный шаблон содержится в тексте описания. Выведите на экран количество таких рецептов и 3 примера подходящих описаний (текст описания должен быть виден на экране полностью)."
      ]
    },
    {
      "cell_type": "code",
      "execution_count": null,
      "metadata": {
        "id": "zCQ5j4LWxWV6",
        "outputId": "d9374886-75e8-46b7-fe93-1866cdda1e67"
      },
      "outputs": [
        {
          "name": "stdout",
          "output_type": "stream",
          "text": [
            "Кол-во рецептов: 865\n"
          ]
        },
        {
          "data": {
            "text/plain": [
              "76    this is a great meal eaten the same day ,but e...\n",
              "87    this is it. the real deal. very time consuming...\n",
              "92    this is fantastic served with grilled seafood ...\n",
              "Name: description, dtype: object"
            ]
          },
          "execution_count": 8,
          "metadata": {},
          "output_type": "execute_result"
        }
      ],
      "source": [
        "pattern = r'^this.*,[\\s]?but'\n",
        "descriptions = pd.Series(df['description']).dropna()\n",
        "descriptions_pattern = descriptions.str.match(pattern)\n",
        "print(f\"Кол-во рецептов: {descriptions_pattern.sum()}\")\n",
        "descriptions[descriptions_pattern][:3]"
      ]
    },
    {
      "cell_type": "markdown",
      "metadata": {
        "id": "jd65yJmQxWV6"
      },
      "source": [
        "5\\. В текстах шагов рецептов обыкновенные дроби имеют вид \"a / b\". Используя регулярные выражения, уберите в тексте шагов рецепта с id 72367 пробелы до и после символа дроби. Выведите на экран шаги этого рецепта после их изменения."
      ]
    },
    {
      "cell_type": "code",
      "execution_count": null,
      "metadata": {
        "id": "7VZOsyPvxWV6",
        "outputId": "d784bc37-cbe2-4149-8b73-e546ef3a6ea9"
      },
      "outputs": [
        {
          "name": "stdout",
          "output_type": "stream",
          "text": [
            "mix butter , flour , 1/3 c\n",
            "sugar and 1-1/4 t\n",
            "vanilla\n",
            "press into greased 9\" springform pan\n",
            "mix cream cheese , 1/4 c\n",
            "sugar , eggs and 1/2 t\n",
            "vanilla beating until fluffy\n",
            "pour over dough\n",
            "combine apples , 1/3 c\n",
            "sugar and cinnamon\n",
            "arrange on top of cream cheese mixture and sprinkle with almonds\n",
            "bake at 350 for 45-55 minutes , or until tester comes out clean\n"
          ]
        }
      ],
      "source": [
        "data_recipes = recipes.find('id', string='72367').next_sibling.next_sibling.text.strip()\n",
        "print(re.sub(r' / ', '/', data_recipes))"
      ]
    },
    {
      "cell_type": "markdown",
      "metadata": {
        "id": "Aul4upfgxWV7"
      },
      "source": [
        "### Сегментация текста"
      ]
    },
    {
      "cell_type": "markdown",
      "metadata": {
        "id": "uuRgU68AxWV7"
      },
      "source": [
        "6\\. Разбейте тексты шагов рецептов на слова при помощи пакета `nltk`. Посчитайте и выведите на экран кол-во уникальных слов среди всех рецептов. Словом называется любая последовательность алфавитных символов (для проверки можно воспользоваться `str.isalpha`). При подсчете количества уникальных слов не учитывайте регистр."
      ]
    },
    {
      "cell_type": "code",
      "execution_count": null,
      "metadata": {
        "id": "MSHcir3fxWV7",
        "outputId": "94851cbb-8ffb-4876-8674-23ffc8a144cd"
      },
      "outputs": [
        {
          "data": {
            "text/plain": [
              "19604"
            ]
          },
          "execution_count": 16,
          "metadata": {},
          "output_type": "execute_result"
        }
      ],
      "source": [
        "unique_words = set()\n",
        "for word in recipes.find_all('recipe'):\n",
        "    unique_words.update(nltk.word_tokenize(word.steps.text.strip()))\n",
        "len(unique_words)"
      ]
    },
    {
      "cell_type": "markdown",
      "metadata": {
        "id": "TYQq2vXRxWV7"
      },
      "source": [
        "7\\. Разбейте описания рецептов из `recipes` на предложения при помощи пакета `nltk`. Найдите 5 самых длинных описаний (по количеству _предложений_) рецептов в датасете и выведите строки фрейма, соответствующие этим рецептами, в порядке убывания длины."
      ]
    },
    {
      "cell_type": "code",
      "execution_count": null,
      "metadata": {
        "id": "a9w9SNBIxWV7",
        "outputId": "4917dd7e-0aa4-485e-ddfa-758b988a169d"
      },
      "outputs": [
        {
          "data": {
            "text/html": [
              "<div>\n",
              "<style scoped>\n",
              "    .dataframe tbody tr th:only-of-type {\n",
              "        vertical-align: middle;\n",
              "    }\n",
              "\n",
              "    .dataframe tbody tr th {\n",
              "        vertical-align: top;\n",
              "    }\n",
              "\n",
              "    .dataframe thead th {\n",
              "        text-align: right;\n",
              "    }\n",
              "</style>\n",
              "<table border=\"1\" class=\"dataframe\">\n",
              "  <thead>\n",
              "    <tr style=\"text-align: right;\">\n",
              "      <th></th>\n",
              "      <th>name</th>\n",
              "      <th>id</th>\n",
              "      <th>minutes</th>\n",
              "      <th>contributor_id</th>\n",
              "      <th>submitted</th>\n",
              "      <th>n_steps</th>\n",
              "      <th>description</th>\n",
              "      <th>n_ingredients</th>\n",
              "    </tr>\n",
              "  </thead>\n",
              "  <tbody>\n",
              "    <tr>\n",
              "      <th>18408</th>\n",
              "      <td>my favorite buttercream icing for decorating</td>\n",
              "      <td>334113</td>\n",
              "      <td>30</td>\n",
              "      <td>681465</td>\n",
              "      <td>2008-10-30</td>\n",
              "      <td>12.0</td>\n",
              "      <td>this wonderful icing is used for icing cakes a...</td>\n",
              "      <td>NaN</td>\n",
              "    </tr>\n",
              "    <tr>\n",
              "      <th>481</th>\n",
              "      <td>alligator claws  avocado fritters  with chipot...</td>\n",
              "      <td>287008</td>\n",
              "      <td>45</td>\n",
              "      <td>765354</td>\n",
              "      <td>2008-02-19</td>\n",
              "      <td>NaN</td>\n",
              "      <td>a translucent golden-brown crust allows the gr...</td>\n",
              "      <td>9.0</td>\n",
              "    </tr>\n",
              "    <tr>\n",
              "      <th>22566</th>\n",
              "      <td>rich barley mushroom soup</td>\n",
              "      <td>328708</td>\n",
              "      <td>60</td>\n",
              "      <td>221776</td>\n",
              "      <td>2008-10-03</td>\n",
              "      <td>NaN</td>\n",
              "      <td>this is one of the best soups i've ever made a...</td>\n",
              "      <td>10.0</td>\n",
              "    </tr>\n",
              "    <tr>\n",
              "      <th>6779</th>\n",
              "      <td>chocolate tea</td>\n",
              "      <td>205348</td>\n",
              "      <td>6</td>\n",
              "      <td>428824</td>\n",
              "      <td>2007-01-14</td>\n",
              "      <td>NaN</td>\n",
              "      <td>i wrote this because there are an astounding l...</td>\n",
              "      <td>NaN</td>\n",
              "    </tr>\n",
              "    <tr>\n",
              "      <th>16296</th>\n",
              "      <td>little bunny foo foo cake  carrot cake  with c...</td>\n",
              "      <td>316000</td>\n",
              "      <td>68</td>\n",
              "      <td>689540</td>\n",
              "      <td>2008-07-27</td>\n",
              "      <td>14.0</td>\n",
              "      <td>the first time i made this cake i grated a mil...</td>\n",
              "      <td>NaN</td>\n",
              "    </tr>\n",
              "  </tbody>\n",
              "</table>\n",
              "</div>"
            ],
            "text/plain": [
              "                                                    name      id  minutes  \\\n",
              "18408       my favorite buttercream icing for decorating  334113       30   \n",
              "481    alligator claws  avocado fritters  with chipot...  287008       45   \n",
              "22566                          rich barley mushroom soup  328708       60   \n",
              "6779                                       chocolate tea  205348        6   \n",
              "16296  little bunny foo foo cake  carrot cake  with c...  316000       68   \n",
              "\n",
              "       contributor_id   submitted  n_steps  \\\n",
              "18408          681465  2008-10-30     12.0   \n",
              "481            765354  2008-02-19      NaN   \n",
              "22566          221776  2008-10-03      NaN   \n",
              "6779           428824  2007-01-14      NaN   \n",
              "16296          689540  2008-07-27     14.0   \n",
              "\n",
              "                                             description  n_ingredients  \n",
              "18408  this wonderful icing is used for icing cakes a...            NaN  \n",
              "481    a translucent golden-brown crust allows the gr...            9.0  \n",
              "22566  this is one of the best soups i've ever made a...           10.0  \n",
              "6779   i wrote this because there are an astounding l...            NaN  \n",
              "16296  the first time i made this cake i grated a mil...            NaN  "
            ]
          },
          "execution_count": 28,
          "metadata": {},
          "output_type": "execute_result"
        }
      ],
      "source": [
        "df['description'] = df['description'].dropna()\n",
        "descriptions = df[\"description\"].apply(nltk.sent_tokenize)\n",
        "data = descriptions.to_dict()\n",
        "df.iloc[sorted(data, key=lambda x: len(data[x]), reverse=True)[:5]]"
      ]
    },
    {
      "cell_type": "markdown",
      "metadata": {
        "id": "7BsSZBzkxWV7"
      },
      "source": [
        "8\\. Напишите функцию, которая для заданного предложения выводит информацию о частях речи слов, входящих в предложение, в следующем виде:\n",
        "```\n",
        "PRP   VBD   DT      NNS     CC   VBD      NNS        RB   \n",
        " I  omitted the raspberries and added strawberries instead\n",
        "```\n",
        "Для определения части речи слова можно воспользоваться `nltk.pos_tag`.\n",
        "\n",
        "Проверьте работоспособность функции на названии рецепта с id 241106.\n",
        "\n",
        "Обратите внимание, что часть речи должна находиться ровно посередине над соотвествующим словом, а между самими словами должен быть ровно один пробел.\n"
      ]
    },
    {
      "cell_type": "code",
      "execution_count": null,
      "metadata": {
        "id": "S0cFHP-2xWV8",
        "outputId": "57e7de25-0c60-47ba-abe0-f545d37f14dd"
      },
      "outputs": [
        {
          "name": "stdout",
          "output_type": "stream",
          "text": [
            "   JJ      NNS   IN     NNS     VBP   JJ    CC   JJ    NNS  \n",
            "eggplant steaks with chickpeas feta cheese and black olives \n"
          ]
        }
      ],
      "source": [
        "pos_tag_values = nltk.pos_tag(nltk.word_tokenize(df[df['id'] == 241106].name.values[0]))\n",
        "formatted_values = [(value[-1], value[-2], max(len(value[0]), len(value[1]))) for value in pos_tag_values]\n",
        "print(''.join([f\"{ind[0]:^{ind[2] + 1}}\" for ind in formatted_values]),\n",
        "      ''.join([f\"{ind[1]:^{ind[2] + 1}}\" for ind in formatted_values]),\n",
        "      sep='\\n')"
      ]
    }
  ],
  "metadata": {
    "kernelspec": {
      "display_name": "Python 3 (ipykernel)",
      "language": "python",
      "name": "python3"
    },
    "language_info": {
      "codemirror_mode": {
        "name": "ipython",
        "version": 3
      },
      "file_extension": ".py",
      "mimetype": "text/x-python",
      "name": "python",
      "nbconvert_exporter": "python",
      "pygments_lexer": "ipython3",
      "version": "3.10.9"
    },
    "colab": {
      "provenance": []
    }
  },
  "nbformat": 4,
  "nbformat_minor": 0
}